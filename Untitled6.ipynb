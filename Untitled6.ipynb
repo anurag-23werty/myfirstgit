{
  "nbformat": 4,
  "nbformat_minor": 0,
  "metadata": {
    "colab": {
      "provenance": [],
      "authorship_tag": "ABX9TyOYxdoC+okWBKtQe8PiY90D",
      "include_colab_link": true
    },
    "kernelspec": {
      "name": "python3",
      "display_name": "Python 3"
    },
    "language_info": {
      "name": "python"
    }
  },
  "cells": [
    {
      "cell_type": "markdown",
      "metadata": {
        "id": "view-in-github",
        "colab_type": "text"
      },
      "source": [
        "<a href=\"https://colab.research.google.com/github/anurag-23werty/myfirstgit/blob/main/Untitled6.ipynb\" target=\"_parent\"><img src=\"https://colab.research.google.com/assets/colab-badge.svg\" alt=\"Open In Colab\"/></a>"
      ]
    },
    {
      "cell_type": "code",
      "execution_count": 1,
      "metadata": {
        "colab": {
          "base_uri": "https://localhost:8080/"
        },
        "id": "rarXya8zZ8zG",
        "outputId": "3f66e071-d0dc-4875-91e8-d7286d0ade2d"
      },
      "outputs": [
        {
          "output_type": "execute_result",
          "data": {
            "text/plain": [
              "KFold(n_splits=3, random_state=None, shuffle=False)"
            ]
          },
          "metadata": {},
          "execution_count": 1
        }
      ],
      "source": [
        "from sklearn.model_selection import KFold\n",
        "kf = KFold(n_splits=3)\n",
        "kf"
      ]
    },
    {
      "cell_type": "code",
      "source": [
        "for train_index, test_index in kf.split([1,2,3,4,5,6,7,8,9]):\n",
        "    print(train_index, test_index)"
      ],
      "metadata": {
        "colab": {
          "base_uri": "https://localhost:8080/"
        },
        "id": "fKEP0II2aBhn",
        "outputId": "5e9cdb49-a530-42fb-ffbe-d546bfaf64dc"
      },
      "execution_count": 2,
      "outputs": [
        {
          "output_type": "stream",
          "name": "stdout",
          "text": [
            "[3 4 5 6 7 8] [0 1 2]\n",
            "[0 1 2 6 7 8] [3 4 5]\n",
            "[0 1 2 3 4 5] [6 7 8]\n"
          ]
        }
      ]
    },
    {
      "cell_type": "code",
      "source": [
        "from sklearn.datasets import load_digits\n",
        "import numpy as np\n",
        "\n",
        "digits = load_digits()\n",
        "# Sample 5 data points from the digits dataset\n",
        "sampled_indices = np.random.choice(len(digits.data), size=5, replace=False)\n",
        "sampled_data = digits.data[sampled_indices]\n",
        "print(sampled_data)"
      ],
      "metadata": {
        "colab": {
          "base_uri": "https://localhost:8080/"
        },
        "id": "zfOWIMWVaGv-",
        "outputId": "03241f30-3582-470e-f9ee-43713187f432"
      },
      "execution_count": 5,
      "outputs": [
        {
          "output_type": "stream",
          "name": "stdout",
          "text": [
            "[[ 0.  0. 11.  8. 12.  5.  0.  0.  0.  1. 15. 11.  6. 14.  2.  0.  0.  4.\n",
            "  11.  0.  0.  9.  4.  0.  0.  4.  8.  0.  0.  8.  6.  0.  0.  6.  7.  0.\n",
            "   0. 11.  3.  0.  0.  5.  8.  0.  5. 13.  0.  0.  0.  3. 13.  5. 15.  3.\n",
            "   0.  0.  0.  0.  9. 14.  4.  0.  0.  0.]\n",
            " [ 0.  0. 11.  7. 12. 15.  1.  0.  0.  1. 16. 14.  9.  6.  0.  0.  0.  8.\n",
            "  12.  0.  0.  0.  0.  0.  0.  5. 14. 15. 15.  5.  0.  0.  0.  1.  6.  4.\n",
            "  10.  9.  0.  0.  0.  0.  0.  0.  4. 11.  0.  0.  0.  0. 10.  4. 13.  8.\n",
            "   0.  0.  0.  0. 12. 16. 10.  1.  0.  0.]\n",
            " [ 0.  0.  0.  3. 13. 16. 11.  0.  0.  0.  4. 15. 11.  8. 16.  3.  0.  2.\n",
            "  15.  9.  6. 13. 15.  3.  0.  4. 16. 16. 16. 16. 11.  0.  0.  0.  7.  8.\n",
            "   6. 16.  2.  0.  0.  0.  0.  0.  6. 14.  0.  0.  0.  0.  0.  0. 14.  9.\n",
            "   0.  0.  0.  0.  0.  3. 16.  4.  0.  0.]\n",
            " [ 0.  2. 15. 16. 15.  1.  0.  0.  0.  3. 11.  5. 16.  4.  0.  0.  0.  0.\n",
            "   0.  0. 15.  5.  0.  0.  0.  0.  0.  4. 15.  1.  0.  0.  0.  0.  2. 14.\n",
            "   5.  0.  0.  0.  0.  0. 15. 10.  0.  0.  0.  0.  0.  5. 16.  3.  3.  4.\n",
            "   3.  0.  0.  4. 16. 16. 16. 16. 11.  0.]\n",
            " [ 0.  0.  0.  9. 13.  0.  6.  8.  0.  0.  3. 15.  3.  0. 15.  9.  0.  1.\n",
            "  13. 12.  4.  7. 15.  3.  0.  7. 16. 16. 16. 16. 10.  0.  0.  6. 12. 10.\n",
            "  14. 14.  2.  0.  0.  0.  0.  0. 13. 10.  0.  0.  0.  0.  0.  6. 16.  2.\n",
            "   0.  0.  0.  0.  0. 12. 11.  0.  0.  0.]]\n"
          ]
        }
      ]
    },
    {
      "cell_type": "code",
      "source": [
        "from sklearn.linear_model import LogisticRegression\n",
        "from sklearn.svm import SVC\n",
        "from sklearn.ensemble import RandomForestClassifier\n",
        "import numpy as np\n",
        "from sklearn.datasets import load_digits\n",
        "import matplotlib.pyplot as plt\n",
        "digits = load_digits()"
      ],
      "metadata": {
        "id": "MMRXYwMHbMwJ"
      },
      "execution_count": 6,
      "outputs": []
    },
    {
      "cell_type": "code",
      "source": [
        "print(digits.data[0])\n",
        "print(digits.target)"
      ],
      "metadata": {
        "colab": {
          "base_uri": "https://localhost:8080/"
        },
        "id": "wjhwUy5Qrvod",
        "outputId": "9efec60e-3a63-4817-f1af-8649ab678a88"
      },
      "execution_count": 9,
      "outputs": [
        {
          "output_type": "stream",
          "name": "stdout",
          "text": [
            "[ 0.  0.  5. 13.  9.  1.  0.  0.  0.  0. 13. 15. 10. 15.  5.  0.  0.  3.\n",
            " 15.  2.  0. 11.  8.  0.  0.  4. 12.  0.  0.  8.  8.  0.  0.  5.  8.  0.\n",
            "  0.  9.  8.  0.  0.  4. 11.  0.  1. 12.  7.  0.  0.  2. 14.  5. 10. 12.\n",
            "  0.  0.  0.  0.  6. 13. 10.  0.  0.  0.]\n",
            "[0 1 2 ... 8 9 8]\n"
          ]
        }
      ]
    },
    {
      "cell_type": "code",
      "source": [
        "def get_score(model, X_train, X_test, y_train, y_test):\n",
        "    model.fit(X_train, y_train)\n",
        "    return model.score(X_test, y_test)\n",
        "from sklearn.model_selection import StratifiedKFold\n",
        "folds = StratifiedKFold(n_splits=3)\n",
        "\n",
        "scores_logistic = []\n",
        "scores_svm = []\n",
        "scores_rf = []\n",
        "\n",
        "for train_index, test_index in folds.split(digits.data,digits.target):\n",
        "    X_train, X_test, y_train, y_test = digits.data[train_index], digits.data[test_index], \\\n",
        "                                       digits.target[train_index], digits.target[test_index]\n",
        "    print(X_train,X_test)\n",
        "    scores_logistic.append(get_score(LogisticRegression(solver='liblinear',multi_class='ovr'), X_train, X_test, y_train, y_test))\n",
        "    scores_svm.append(get_score(SVC(gamma='auto'), X_train, X_test, y_train, y_test))\n",
        "    scores_rf.append(get_score(RandomForestClassifier(n_estimators=40), X_train, X_test, y_train, y_test))"
      ],
      "metadata": {
        "colab": {
          "base_uri": "https://localhost:8080/"
        },
        "id": "CJnnL34Eqhxv",
        "outputId": "6c54494e-4c90-4bcb-9b82-ceddc430172d"
      },
      "execution_count": 7,
      "outputs": [
        {
          "output_type": "stream",
          "name": "stdout",
          "text": [
            "[[ 0.  0.  0. ...  3.  0.  0.]\n",
            " [ 0.  0.  9. ...  7.  0.  0.]\n",
            " [ 0.  0.  7. ... 12. 12. 11.]\n",
            " ...\n",
            " [ 0.  0.  1. ...  6.  0.  0.]\n",
            " [ 0.  0.  2. ... 12.  0.  0.]\n",
            " [ 0.  0. 10. ... 12.  1.  0.]] [[ 0.  0.  5. ...  0.  0.  0.]\n",
            " [ 0.  0.  0. ... 10.  0.  0.]\n",
            " [ 0.  0.  0. ... 16.  9.  0.]\n",
            " ...\n",
            " [ 0.  0.  1. ...  0.  0.  0.]\n",
            " [ 0.  0.  0. ...  0.  0.  0.]\n",
            " [ 0.  0.  0. ...  0.  0.  0.]]\n"
          ]
        },
        {
          "output_type": "stream",
          "name": "stderr",
          "text": [
            "/usr/local/lib/python3.12/dist-packages/sklearn/linear_model/_logistic.py:1256: FutureWarning: 'multi_class' was deprecated in version 1.5 and will be removed in 1.7. Use OneVsRestClassifier(LogisticRegression(..)) instead. Leave it to its default value to avoid this warning.\n",
            "  warnings.warn(\n"
          ]
        },
        {
          "output_type": "stream",
          "name": "stdout",
          "text": [
            "[[ 0.  0.  5. ...  0.  0.  0.]\n",
            " [ 0.  0.  0. ... 10.  0.  0.]\n",
            " [ 0.  0.  0. ... 16.  9.  0.]\n",
            " ...\n",
            " [ 0.  0.  1. ...  6.  0.  0.]\n",
            " [ 0.  0.  2. ... 12.  0.  0.]\n",
            " [ 0.  0. 10. ... 12.  1.  0.]] [[ 0.  0.  0. ...  3.  0.  0.]\n",
            " [ 0.  0.  9. ...  7.  0.  0.]\n",
            " [ 0.  0.  7. ... 12. 12. 11.]\n",
            " ...\n",
            " [ 0.  1. 13. ... 11.  4.  0.]\n",
            " [ 0.  0.  0. ... 14.  2.  0.]\n",
            " [ 0.  0.  0. ...  2.  0.  0.]]\n"
          ]
        },
        {
          "output_type": "stream",
          "name": "stderr",
          "text": [
            "/usr/local/lib/python3.12/dist-packages/sklearn/linear_model/_logistic.py:1256: FutureWarning: 'multi_class' was deprecated in version 1.5 and will be removed in 1.7. Use OneVsRestClassifier(LogisticRegression(..)) instead. Leave it to its default value to avoid this warning.\n",
            "  warnings.warn(\n"
          ]
        },
        {
          "output_type": "stream",
          "name": "stdout",
          "text": [
            "[[ 0.  0.  5. ...  0.  0.  0.]\n",
            " [ 0.  0.  0. ... 10.  0.  0.]\n",
            " [ 0.  0.  0. ... 16.  9.  0.]\n",
            " ...\n",
            " [ 0.  1. 13. ... 11.  4.  0.]\n",
            " [ 0.  0.  0. ... 14.  2.  0.]\n",
            " [ 0.  0.  0. ...  2.  0.  0.]] [[ 0.  1. 12. ...  0.  0.  0.]\n",
            " [ 0.  3. 16. ...  0.  0.  0.]\n",
            " [ 0.  3. 14. ...  0.  0.  0.]\n",
            " ...\n",
            " [ 0.  0.  1. ...  6.  0.  0.]\n",
            " [ 0.  0.  2. ... 12.  0.  0.]\n",
            " [ 0.  0. 10. ... 12.  1.  0.]]\n"
          ]
        },
        {
          "output_type": "stream",
          "name": "stderr",
          "text": [
            "/usr/local/lib/python3.12/dist-packages/sklearn/linear_model/_logistic.py:1256: FutureWarning: 'multi_class' was deprecated in version 1.5 and will be removed in 1.7. Use OneVsRestClassifier(LogisticRegression(..)) instead. Leave it to its default value to avoid this warning.\n",
            "  warnings.warn(\n"
          ]
        }
      ]
    },
    {
      "cell_type": "code",
      "source": [],
      "metadata": {
        "id": "kZKzer1jq6bW"
      },
      "execution_count": null,
      "outputs": []
    }
  ]
}